{
 "cells": [
  {
   "cell_type": "code",
   "execution_count": 2,
   "metadata": {
    "collapsed": true
   },
   "outputs": [],
   "source": [
    "import pandas as pd\n",
    "import seaborn as sns\n",
    "import re"
   ]
  },
  {
   "cell_type": "code",
   "execution_count": 1,
   "metadata": {
    "collapsed": false
   },
   "outputs": [],
   "source": [
    "data = pd.read_json(\"data_analysis.json\")\n"
   ]
  },
  {
   "cell_type": "code",
   "execution_count": 3,
   "metadata": {
    "collapsed": false
   },
   "outputs": [
    {
     "data": {
      "text/html": [
       "<div>\n",
       "<table border=\"1\" class=\"dataframe\">\n",
       "  <thead>\n",
       "    <tr style=\"text-align: right;\">\n",
       "      <th></th>\n",
       "      <th>address</th>\n",
       "      <th>category_code</th>\n",
       "      <th>city</th>\n",
       "      <th>headcount</th>\n",
       "      <th>name</th>\n",
       "      <th>phone</th>\n",
       "      <th>revenue</th>\n",
       "      <th>state</th>\n",
       "      <th>time_in_business</th>\n",
       "      <th>zip</th>\n",
       "    </tr>\n",
       "  </thead>\n",
       "  <tbody>\n",
       "    <tr>\n",
       "      <th>0</th>\n",
       "      <td>10085 SCRIPPS RANCH CT STE A</td>\n",
       "      <td>44420000</td>\n",
       "      <td>SAN DIEGO</td>\n",
       "      <td>50 to 99</td>\n",
       "      <td>AMD CUSTOM</td>\n",
       "      <td>3123628000</td>\n",
       "      <td>$20 to 50 Million</td>\n",
       "      <td>CA</td>\n",
       "      <td>10+ years</td>\n",
       "      <td>92131</td>\n",
       "    </tr>\n",
       "    <tr>\n",
       "      <th>1</th>\n",
       "      <td>2566 SHALLOWFORD RD NE STE 104 # 302</td>\n",
       "      <td>31490000</td>\n",
       "      <td>ATLANTA</td>\n",
       "      <td>1 to 4</td>\n",
       "      <td>Real Hope Real Estate Inc</td>\n",
       "      <td>None</td>\n",
       "      <td>Less Than $500,000</td>\n",
       "      <td>GA</td>\n",
       "      <td>10+ years</td>\n",
       "      <td>30345</td>\n",
       "    </tr>\n",
       "    <tr>\n",
       "      <th>2</th>\n",
       "      <td>212 E MAIN ST</td>\n",
       "      <td>53120000</td>\n",
       "      <td>NEOSHO</td>\n",
       "      <td>1 to 4</td>\n",
       "      <td>Jimmy Sexton Photography</td>\n",
       "      <td>4046331779</td>\n",
       "      <td>Less Than $500,000</td>\n",
       "      <td>MO</td>\n",
       "      <td>10+ years</td>\n",
       "      <td>64850</td>\n",
       "    </tr>\n",
       "    <tr>\n",
       "      <th>3</th>\n",
       "      <td>6032 CHEROKEE DR</td>\n",
       "      <td>54000000</td>\n",
       "      <td>CINCINNATI</td>\n",
       "      <td>1 to 4</td>\n",
       "      <td>YOU'RE ART</td>\n",
       "      <td>4174513798</td>\n",
       "      <td>Less Than $500,000</td>\n",
       "      <td>OH</td>\n",
       "      <td>10+ years</td>\n",
       "      <td>45243</td>\n",
       "    </tr>\n",
       "    <tr>\n",
       "      <th>4</th>\n",
       "      <td>1315 N WOOSTER AVE</td>\n",
       "      <td>54100000</td>\n",
       "      <td>STRASBURG</td>\n",
       "      <td>1 to 4</td>\n",
       "      <td>Hayberg Restoration Network LLC</td>\n",
       "      <td>5135612584</td>\n",
       "      <td>$500,000 to $1 Million</td>\n",
       "      <td>OH</td>\n",
       "      <td>10+ years</td>\n",
       "      <td>44680</td>\n",
       "    </tr>\n",
       "  </tbody>\n",
       "</table>\n",
       "</div>"
      ],
      "text/plain": [
       "                                address category_code        city headcount  \\\n",
       "0          10085 SCRIPPS RANCH CT STE A      44420000   SAN DIEGO  50 to 99   \n",
       "1  2566 SHALLOWFORD RD NE STE 104 # 302      31490000     ATLANTA    1 to 4   \n",
       "2                         212 E MAIN ST      53120000      NEOSHO    1 to 4   \n",
       "3                      6032 CHEROKEE DR      54000000  CINCINNATI    1 to 4   \n",
       "4                    1315 N WOOSTER AVE      54100000   STRASBURG    1 to 4   \n",
       "\n",
       "                              name       phone                 revenue state  \\\n",
       "0                       AMD CUSTOM  3123628000       $20 to 50 Million    CA   \n",
       "1        Real Hope Real Estate Inc        None      Less Than $500,000    GA   \n",
       "2         Jimmy Sexton Photography  4046331779      Less Than $500,000    MO   \n",
       "3                       YOU'RE ART  4174513798      Less Than $500,000    OH   \n",
       "4  Hayberg Restoration Network LLC  5135612584  $500,000 to $1 Million    OH   \n",
       "\n",
       "  time_in_business    zip  \n",
       "0        10+ years  92131  \n",
       "1        10+ years  30345  \n",
       "2        10+ years  64850  \n",
       "3        10+ years  45243  \n",
       "4        10+ years  44680  "
      ]
     },
     "execution_count": 3,
     "metadata": {},
     "output_type": "execute_result"
    }
   ],
   "source": [
    "data.head()"
   ]
  },
  {
   "cell_type": "code",
   "execution_count": 4,
   "metadata": {
    "collapsed": false
   },
   "outputs": [
    {
     "data": {
      "text/plain": [
       "(1000000, 10)"
      ]
     },
     "execution_count": 4,
     "metadata": {},
     "output_type": "execute_result"
    }
   ],
   "source": [
    "data.shape"
   ]
  },
  {
   "cell_type": "markdown",
   "metadata": {},
   "source": [
    "#### 1. Fill Rate"
   ]
  },
  {
   "cell_type": "code",
   "execution_count": 6,
   "metadata": {
    "collapsed": false
   },
   "outputs": [],
   "source": [
    "#  For each field, how many records have a value.\n",
    "null_val  = []\n",
    "not_null = []\n",
    "fill_rate = []\n",
    "for item in data.columns:\n",
    "    miss_num  = data[item].isnull().values.sum()\n",
    "    null_val.append(miss_num)\n",
    "    not_null.append(len(data)-miss_num)\n",
    "    fill_rate.append((len(data)-miss_num)/len(data))\n"
   ]
  },
  {
   "cell_type": "code",
   "execution_count": 7,
   "metadata": {
    "collapsed": false
   },
   "outputs": [],
   "source": [
    "df_fill =  pd.DataFrame(\n",
    "    {'Number of null values': null_val,\n",
    "     'Number of not null vaules': not_null,\n",
    "     'Fill rate': fill_rate\n",
    "    },index = data.columns)"
   ]
  },
  {
   "cell_type": "code",
   "execution_count": 8,
   "metadata": {
    "collapsed": false
   },
   "outputs": [
    {
     "data": {
      "text/html": [
       "<div>\n",
       "<table border=\"1\" class=\"dataframe\">\n",
       "  <thead>\n",
       "    <tr style=\"text-align: right;\">\n",
       "      <th></th>\n",
       "      <th>Fill rate</th>\n",
       "      <th>Number of not null vaules</th>\n",
       "      <th>Number of null values</th>\n",
       "    </tr>\n",
       "  </thead>\n",
       "  <tbody>\n",
       "    <tr>\n",
       "      <th>address</th>\n",
       "      <td>0.999986</td>\n",
       "      <td>999986</td>\n",
       "      <td>14</td>\n",
       "    </tr>\n",
       "    <tr>\n",
       "      <th>category_code</th>\n",
       "      <td>0.999986</td>\n",
       "      <td>999986</td>\n",
       "      <td>14</td>\n",
       "    </tr>\n",
       "    <tr>\n",
       "      <th>city</th>\n",
       "      <td>0.999986</td>\n",
       "      <td>999986</td>\n",
       "      <td>14</td>\n",
       "    </tr>\n",
       "    <tr>\n",
       "      <th>headcount</th>\n",
       "      <td>0.962352</td>\n",
       "      <td>962352</td>\n",
       "      <td>37648</td>\n",
       "    </tr>\n",
       "    <tr>\n",
       "      <th>name</th>\n",
       "      <td>0.999986</td>\n",
       "      <td>999986</td>\n",
       "      <td>14</td>\n",
       "    </tr>\n",
       "    <tr>\n",
       "      <th>phone</th>\n",
       "      <td>0.590889</td>\n",
       "      <td>590889</td>\n",
       "      <td>409111</td>\n",
       "    </tr>\n",
       "    <tr>\n",
       "      <th>revenue</th>\n",
       "      <td>0.943092</td>\n",
       "      <td>943092</td>\n",
       "      <td>56908</td>\n",
       "    </tr>\n",
       "    <tr>\n",
       "      <th>state</th>\n",
       "      <td>0.999986</td>\n",
       "      <td>999986</td>\n",
       "      <td>14</td>\n",
       "    </tr>\n",
       "    <tr>\n",
       "      <th>time_in_business</th>\n",
       "      <td>0.916125</td>\n",
       "      <td>916125</td>\n",
       "      <td>83875</td>\n",
       "    </tr>\n",
       "    <tr>\n",
       "      <th>zip</th>\n",
       "      <td>0.999988</td>\n",
       "      <td>999988</td>\n",
       "      <td>12</td>\n",
       "    </tr>\n",
       "  </tbody>\n",
       "</table>\n",
       "</div>"
      ],
      "text/plain": [
       "                  Fill rate  Number of not null vaules  Number of null values\n",
       "address            0.999986                     999986                     14\n",
       "category_code      0.999986                     999986                     14\n",
       "city               0.999986                     999986                     14\n",
       "headcount          0.962352                     962352                  37648\n",
       "name               0.999986                     999986                     14\n",
       "phone              0.590889                     590889                 409111\n",
       "revenue            0.943092                     943092                  56908\n",
       "state              0.999986                     999986                     14\n",
       "time_in_business   0.916125                     916125                  83875\n",
       "zip                0.999988                     999988                     12"
      ]
     },
     "execution_count": 8,
     "metadata": {},
     "output_type": "execute_result"
    }
   ],
   "source": [
    "df_fill"
   ]
  },
  {
   "cell_type": "markdown",
   "metadata": {},
   "source": [
    "#### 2. True-Valued Fill Rate"
   ]
  },
  {
   "cell_type": "markdown",
   "metadata": {},
   "source": [
    "Fields have several types of irrelevant values:\"\", \" \", \"0\",\"none\",\"null\",0 "
   ]
  },
  {
   "cell_type": "code",
   "execution_count": 10,
   "metadata": {
    "collapsed": false
   },
   "outputs": [
    {
     "name": "stdout",
     "output_type": "stream",
     "text": [
      "address {<class 'int'>, <class 'NoneType'>, <class 'str'>}\n",
      "category_code {<class 'int'>, <class 'NoneType'>, <class 'str'>}\n",
      "city {<class 'int'>, <class 'NoneType'>, <class 'str'>}\n",
      "headcount {<class 'int'>, <class 'NoneType'>, <class 'str'>}\n",
      "name {<class 'int'>, <class 'NoneType'>, <class 'str'>}\n",
      "phone {<class 'int'>, <class 'NoneType'>, <class 'str'>}\n",
      "revenue {<class 'int'>, <class 'NoneType'>, <class 'str'>}\n",
      "state {<class 'int'>, <class 'NoneType'>, <class 'str'>}\n",
      "time_in_business {<class 'int'>, <class 'NoneType'>, <class 'str'>}\n",
      "zip {<class 'int'>, <class 'NoneType'>, <class 'str'>}\n"
     ]
    }
   ],
   "source": [
    "# Check if each field has inconsistent types\n",
    "for col in data.columns:\n",
    "    print(col, set([type(x) for x in data[col]]))"
   ]
  },
  {
   "cell_type": "code",
   "execution_count": 11,
   "metadata": {
    "collapsed": false
   },
   "outputs": [],
   "source": [
    "# For field that may have large cardility, we need to check carefully based on the meaning of field \n",
    "# For field that may have small cardility, we can use \"set\" to get the complete information of records"
   ]
  },
  {
   "cell_type": "code",
   "execution_count": 26,
   "metadata": {
    "collapsed": false
   },
   "outputs": [],
   "source": [
    "# Use \"address\" as an example\n",
    "# Based on common sense, the number of words of address is unlikely to be 0 or 1\n",
    "data_ad = data[data.address.notnull()].address\n",
    "\n",
    "idx = []\n",
    "for i in range(len(data_ad)):\n",
    "    if isinstance(data_ad.iloc[i],str) and len(data_ad.iloc[i].split()) in [0,1]:\n",
    "         idx.append(i)"
   ]
  },
  {
   "cell_type": "code",
   "execution_count": 28,
   "metadata": {
    "collapsed": false
   },
   "outputs": [
    {
     "data": {
      "text/plain": [
       "22062     null\n",
       "33870     none\n",
       "43516         \n",
       "95603     null\n",
       "96310     none\n",
       "102461    none\n",
       "114195        \n",
       "137494    null\n",
       "141320        \n",
       "157640        \n",
       "Name: address, dtype: object"
      ]
     },
     "execution_count": 28,
     "metadata": {},
     "output_type": "execute_result"
    }
   ],
   "source": [
    "data_ad.iloc[idx][0:10]"
   ]
  },
  {
   "cell_type": "code",
   "execution_count": 30,
   "metadata": {
    "collapsed": false
   },
   "outputs": [
    {
     "data": {
      "text/plain": [
       "{'', ' ', '0', '2ND', 'none', 'null'}"
      ]
     },
     "execution_count": 30,
     "metadata": {},
     "output_type": "execute_result"
    }
   ],
   "source": [
    "irr_value = set(data_ad.iloc[idx])\n",
    "irr_value"
   ]
  },
  {
   "cell_type": "code",
   "execution_count": 15,
   "metadata": {
    "collapsed": true
   },
   "outputs": [],
   "source": [
    "# Filter out the inconsistent types and irrelevant string\n",
    "count_ad = 0\n",
    "idx = []\n",
    "for i in range(len(data1)):\n",
    "    if not isinstance(data1[\"address\"].iloc[i],str) or (isinstance(data1[\"address\"].iloc[i],str) and (len(data1[\"address\"].iloc[i].split()) == 0 or len(data1[\"address\"].iloc[i].split()) == 1)):\n",
    "        count_ad +=1\n",
    "        idx.append(i)\n"
   ]
  },
  {
   "cell_type": "code",
   "execution_count": 16,
   "metadata": {
    "collapsed": false
   },
   "outputs": [],
   "source": [
    "# Based on the irrelevant records in \"address\", other records have the same probelm\n",
    "def true_fill(field):\n",
    "    data1 = data[data[field].notnull()][field]\n",
    "    count = 0\n",
    "    for i in range(len(data1)):\n",
    "        if not isinstance(data1.iloc[i],str) or (isinstance(data1.iloc[i],str) and  data1.iloc[i] in irr_value ):\n",
    "            count +=1\n",
    "    return count"
   ]
  },
  {
   "cell_type": "code",
   "execution_count": 19,
   "metadata": {
    "collapsed": false
   },
   "outputs": [],
   "source": [
    "cc = []\n",
    "for col in data1.columns:\n",
    "    cc.append(true_fill(col))\n",
    "    \n"
   ]
  },
  {
   "cell_type": "code",
   "execution_count": 20,
   "metadata": {
    "collapsed": false
   },
   "outputs": [],
   "source": [
    "# subsract from total number of filled value\n",
    "# store as the dataframe\n",
    "true_fil = len(data)- np.array(cc)-np.array(null_val)\n",
    "true_fil_rate = [ i/len(data) for i in true_fil]\n",
    "df_tfill =  pd.DataFrame(\n",
    "    {'Number of null values': null_val,\n",
    "     'Number of irrelevant vaules': cc,\n",
    "     'Number of true values': true_fil,\n",
    "    \"True-Valued Fill Rate\": true_fil_rate\n",
    "     },index = data.columns)"
   ]
  },
  {
   "cell_type": "code",
   "execution_count": 21,
   "metadata": {
    "collapsed": false
   },
   "outputs": [
    {
     "data": {
      "text/html": [
       "<div>\n",
       "<table border=\"1\" class=\"dataframe\">\n",
       "  <thead>\n",
       "    <tr style=\"text-align: right;\">\n",
       "      <th></th>\n",
       "      <th>Number of irrelevant vaules</th>\n",
       "      <th>Number of null values</th>\n",
       "      <th>Number of true values</th>\n",
       "      <th>True-Valued Fill Rate</th>\n",
       "    </tr>\n",
       "  </thead>\n",
       "  <tbody>\n",
       "    <tr>\n",
       "      <th>address</th>\n",
       "      <td>89</td>\n",
       "      <td>14</td>\n",
       "      <td>999897</td>\n",
       "      <td>0.999897</td>\n",
       "    </tr>\n",
       "    <tr>\n",
       "      <th>category_code</th>\n",
       "      <td>76</td>\n",
       "      <td>14</td>\n",
       "      <td>999910</td>\n",
       "      <td>0.999910</td>\n",
       "    </tr>\n",
       "    <tr>\n",
       "      <th>city</th>\n",
       "      <td>91</td>\n",
       "      <td>14</td>\n",
       "      <td>999895</td>\n",
       "      <td>0.999895</td>\n",
       "    </tr>\n",
       "    <tr>\n",
       "      <th>headcount</th>\n",
       "      <td>79</td>\n",
       "      <td>37648</td>\n",
       "      <td>962273</td>\n",
       "      <td>0.962273</td>\n",
       "    </tr>\n",
       "    <tr>\n",
       "      <th>name</th>\n",
       "      <td>76</td>\n",
       "      <td>14</td>\n",
       "      <td>999910</td>\n",
       "      <td>0.999910</td>\n",
       "    </tr>\n",
       "    <tr>\n",
       "      <th>phone</th>\n",
       "      <td>91</td>\n",
       "      <td>409111</td>\n",
       "      <td>590798</td>\n",
       "      <td>0.590798</td>\n",
       "    </tr>\n",
       "    <tr>\n",
       "      <th>revenue</th>\n",
       "      <td>91</td>\n",
       "      <td>56908</td>\n",
       "      <td>943001</td>\n",
       "      <td>0.943001</td>\n",
       "    </tr>\n",
       "    <tr>\n",
       "      <th>state</th>\n",
       "      <td>90</td>\n",
       "      <td>14</td>\n",
       "      <td>999896</td>\n",
       "      <td>0.999896</td>\n",
       "    </tr>\n",
       "    <tr>\n",
       "      <th>time_in_business</th>\n",
       "      <td>77</td>\n",
       "      <td>83875</td>\n",
       "      <td>916048</td>\n",
       "      <td>0.916048</td>\n",
       "    </tr>\n",
       "    <tr>\n",
       "      <th>zip</th>\n",
       "      <td>98</td>\n",
       "      <td>12</td>\n",
       "      <td>999890</td>\n",
       "      <td>0.999890</td>\n",
       "    </tr>\n",
       "  </tbody>\n",
       "</table>\n",
       "</div>"
      ],
      "text/plain": [
       "                  Number of irrelevant vaules  Number of null values  \\\n",
       "address                                    89                     14   \n",
       "category_code                              76                     14   \n",
       "city                                       91                     14   \n",
       "headcount                                  79                  37648   \n",
       "name                                       76                     14   \n",
       "phone                                      91                 409111   \n",
       "revenue                                    91                  56908   \n",
       "state                                      90                     14   \n",
       "time_in_business                           77                  83875   \n",
       "zip                                        98                     12   \n",
       "\n",
       "                  Number of true values  True-Valued Fill Rate  \n",
       "address                          999897               0.999897  \n",
       "category_code                    999910               0.999910  \n",
       "city                             999895               0.999895  \n",
       "headcount                        962273               0.962273  \n",
       "name                             999910               0.999910  \n",
       "phone                            590798               0.590798  \n",
       "revenue                          943001               0.943001  \n",
       "state                            999896               0.999896  \n",
       "time_in_business                 916048               0.916048  \n",
       "zip                              999890               0.999890  "
      ]
     },
     "execution_count": 21,
     "metadata": {},
     "output_type": "execute_result"
    }
   ],
   "source": [
    "df_tfill"
   ]
  },
  {
   "cell_type": "markdown",
   "metadata": {},
   "source": [
    "#### 3. Cardinality\n",
    "\n",
    "The term cardinality refers to the uniqueness of data values contained in a particular field of a database table. The lower the cardinality, the more duplicated elements in a column."
   ]
  },
  {
   "cell_type": "code",
   "execution_count": 22,
   "metadata": {
    "collapsed": false
   },
   "outputs": [],
   "source": [
    "ng_val = set([\"\",\" \",\"0\",0,\"none\",\"null\",None])"
   ]
  },
  {
   "cell_type": "code",
   "execution_count": 23,
   "metadata": {
    "collapsed": true
   },
   "outputs": [],
   "source": [
    "def card(field):\n",
    "    data1 = data[data[field].notnull()][field]\n",
    "    card_n1 = len(set(data1))\n",
    "    card_n2 = len(set(data1)-ng_val)\n",
    "    \n",
    "    return card_n1,card_n2\n",
    "    \n"
   ]
  },
  {
   "cell_type": "code",
   "execution_count": 32,
   "metadata": {
    "collapsed": false
   },
   "outputs": [],
   "source": [
    "card1 = []\n",
    "card2 = []\n",
    "for col in data.columns:\n",
    "    card1.append(card(col)[0])\n",
    "    card2.append(card(col)[1])\n",
    "    \n",
    "    "
   ]
  },
  {
   "cell_type": "code",
   "execution_count": 33,
   "metadata": {
    "collapsed": true
   },
   "outputs": [],
   "source": [
    "df_card = pd.DataFrame(\n",
    "    {'cardinality for all records': card1,\n",
    "    'cardinality for good records': card2  \n",
    "     },index = data.columns)"
   ]
  },
  {
   "cell_type": "code",
   "execution_count": 34,
   "metadata": {
    "collapsed": false
   },
   "outputs": [
    {
     "data": {
      "text/html": [
       "<div>\n",
       "<table border=\"1\" class=\"dataframe\">\n",
       "  <thead>\n",
       "    <tr style=\"text-align: right;\">\n",
       "      <th></th>\n",
       "      <th>cardinality for all records</th>\n",
       "      <th>cardinality for good records</th>\n",
       "    </tr>\n",
       "  </thead>\n",
       "  <tbody>\n",
       "    <tr>\n",
       "      <th>address</th>\n",
       "      <td>892120</td>\n",
       "      <td>892114</td>\n",
       "    </tr>\n",
       "    <tr>\n",
       "      <th>category_code</th>\n",
       "      <td>1184</td>\n",
       "      <td>1178</td>\n",
       "    </tr>\n",
       "    <tr>\n",
       "      <th>city</th>\n",
       "      <td>13720</td>\n",
       "      <td>13714</td>\n",
       "    </tr>\n",
       "    <tr>\n",
       "      <th>headcount</th>\n",
       "      <td>15</td>\n",
       "      <td>9</td>\n",
       "    </tr>\n",
       "    <tr>\n",
       "      <th>name</th>\n",
       "      <td>890723</td>\n",
       "      <td>890717</td>\n",
       "    </tr>\n",
       "    <tr>\n",
       "      <th>phone</th>\n",
       "      <td>575154</td>\n",
       "      <td>575148</td>\n",
       "    </tr>\n",
       "    <tr>\n",
       "      <th>revenue</th>\n",
       "      <td>17</td>\n",
       "      <td>11</td>\n",
       "    </tr>\n",
       "    <tr>\n",
       "      <th>state</th>\n",
       "      <td>59</td>\n",
       "      <td>53</td>\n",
       "    </tr>\n",
       "    <tr>\n",
       "      <th>time_in_business</th>\n",
       "      <td>11</td>\n",
       "      <td>5</td>\n",
       "    </tr>\n",
       "    <tr>\n",
       "      <th>zip</th>\n",
       "      <td>26397</td>\n",
       "      <td>26391</td>\n",
       "    </tr>\n",
       "  </tbody>\n",
       "</table>\n",
       "</div>"
      ],
      "text/plain": [
       "                  cardinality for all records  cardinality for good records\n",
       "address                                892120                        892114\n",
       "category_code                            1184                          1178\n",
       "city                                    13720                         13714\n",
       "headcount                                  15                             9\n",
       "name                                   890723                        890717\n",
       "phone                                  575154                        575148\n",
       "revenue                                    17                            11\n",
       "state                                      59                            53\n",
       "time_in_business                           11                             5\n",
       "zip                                     26397                         26391"
      ]
     },
     "execution_count": 34,
     "metadata": {},
     "output_type": "execute_result"
    }
   ],
   "source": [
    "df_card"
   ]
  },
  {
   "cell_type": "markdown",
   "metadata": {},
   "source": [
    "#### 4. Something interesting\n",
    "\n",
    "- Inconsistent zip code entry "
   ]
  },
  {
   "cell_type": "code",
   "execution_count": 38,
   "metadata": {
    "collapsed": false
   },
   "outputs": [],
   "source": [
    "# get rid of invalid entries\n",
    "idx_zip = []\n",
    "for i in range(len(data)):\n",
    "    if data[\"zip\"].ix[i] in ng_val:\n",
    "        idx_zip.append(i)\n",
    "\n",
    "# Extract the entries with inconsistent length of zip code\n",
    "data_zip = data.drop(data.index[idx_zip])\n",
    "l_zp = []\n",
    "for i in range(len(data_zip)):\n",
    "    if len(data_zip.zip.iloc[i]) != 5:\n",
    "        l_zp.append(i)"
   ]
  },
  {
   "cell_type": "code",
   "execution_count": 39,
   "metadata": {
    "collapsed": false
   },
   "outputs": [
    {
     "data": {
      "text/html": [
       "<div>\n",
       "<table border=\"1\" class=\"dataframe\">\n",
       "  <thead>\n",
       "    <tr style=\"text-align: right;\">\n",
       "      <th></th>\n",
       "      <th>address</th>\n",
       "      <th>category_code</th>\n",
       "      <th>city</th>\n",
       "      <th>headcount</th>\n",
       "      <th>name</th>\n",
       "      <th>phone</th>\n",
       "      <th>revenue</th>\n",
       "      <th>state</th>\n",
       "      <th>time_in_business</th>\n",
       "      <th>zip</th>\n",
       "    </tr>\n",
       "  </thead>\n",
       "  <tbody>\n",
       "    <tr>\n",
       "      <th>53</th>\n",
       "      <td>3 BOWLEN AVE # 1</td>\n",
       "      <td>54111000</td>\n",
       "      <td>SOUTHBRIDGE</td>\n",
       "      <td>1 to 4</td>\n",
       "      <td>Innovative Business Services</td>\n",
       "      <td>2122067348</td>\n",
       "      <td>$500,000 to $1 Million</td>\n",
       "      <td>MA</td>\n",
       "      <td>10+ years</td>\n",
       "      <td>1550</td>\n",
       "    </tr>\n",
       "    <tr>\n",
       "      <th>57</th>\n",
       "      <td>10 ALLEN ST</td>\n",
       "      <td>44000000</td>\n",
       "      <td>HAMPDEN</td>\n",
       "      <td>1 to 4</td>\n",
       "      <td>Practical Pensions &amp; Financial SVCS Inc</td>\n",
       "      <td>7819422199</td>\n",
       "      <td>$500,000 to $1 Million</td>\n",
       "      <td>MA</td>\n",
       "      <td>10+ years</td>\n",
       "      <td>1036</td>\n",
       "    </tr>\n",
       "    <tr>\n",
       "      <th>60</th>\n",
       "      <td>1 MACKWORTH IS</td>\n",
       "      <td>52420000</td>\n",
       "      <td>FALMOUTH</td>\n",
       "      <td>10 to 19</td>\n",
       "      <td>Sweeney's Pavement Maintenance</td>\n",
       "      <td>None</td>\n",
       "      <td>Less Than $500,000</td>\n",
       "      <td>ME</td>\n",
       "      <td>10+ years</td>\n",
       "      <td>4105</td>\n",
       "    </tr>\n",
       "    <tr>\n",
       "      <th>76</th>\n",
       "      <td>103 STATE ST</td>\n",
       "      <td>23000000</td>\n",
       "      <td>BOSTON</td>\n",
       "      <td>1 to 4</td>\n",
       "      <td>DERTECH LLC</td>\n",
       "      <td>None</td>\n",
       "      <td>Less Than $500,000</td>\n",
       "      <td>MA</td>\n",
       "      <td>10+ years</td>\n",
       "      <td>2109</td>\n",
       "    </tr>\n",
       "    <tr>\n",
       "      <th>94</th>\n",
       "      <td>142 ELM ST</td>\n",
       "      <td>53120000</td>\n",
       "      <td>DOVER</td>\n",
       "      <td>20 to 49</td>\n",
       "      <td>Rooney Insurance Agency, Inc.</td>\n",
       "      <td>None</td>\n",
       "      <td>None</td>\n",
       "      <td>NJ</td>\n",
       "      <td>10+ years</td>\n",
       "      <td>7801</td>\n",
       "    </tr>\n",
       "  </tbody>\n",
       "</table>\n",
       "</div>"
      ],
      "text/plain": [
       "             address category_code         city headcount  \\\n",
       "53  3 BOWLEN AVE # 1      54111000  SOUTHBRIDGE    1 to 4   \n",
       "57       10 ALLEN ST      44000000      HAMPDEN    1 to 4   \n",
       "60    1 MACKWORTH IS      52420000     FALMOUTH  10 to 19   \n",
       "76      103 STATE ST      23000000       BOSTON    1 to 4   \n",
       "94        142 ELM ST      53120000        DOVER  20 to 49   \n",
       "\n",
       "                                       name       phone  \\\n",
       "53             Innovative Business Services  2122067348   \n",
       "57  Practical Pensions & Financial SVCS Inc  7819422199   \n",
       "60           Sweeney's Pavement Maintenance        None   \n",
       "76                              DERTECH LLC        None   \n",
       "94            Rooney Insurance Agency, Inc.        None   \n",
       "\n",
       "                   revenue state time_in_business   zip  \n",
       "53  $500,000 to $1 Million    MA        10+ years  1550  \n",
       "57  $500,000 to $1 Million    MA        10+ years  1036  \n",
       "60      Less Than $500,000    ME        10+ years  4105  \n",
       "76      Less Than $500,000    MA        10+ years  2109  \n",
       "94                    None    NJ        10+ years  7801  "
      ]
     },
     "execution_count": 39,
     "metadata": {},
     "output_type": "execute_result"
    }
   ],
   "source": [
    "data_zip.iloc[l_zp].head()    "
   ]
  },
  {
   "cell_type": "markdown",
   "metadata": {},
   "source": [
    "- Relationship between headcount and revenue"
   ]
  },
  {
   "cell_type": "code",
   "execution_count": 75,
   "metadata": {
    "collapsed": true
   },
   "outputs": [],
   "source": [
    "# get rid of invalid entries\n",
    "idx_head = []\n",
    "for i in range(len(data)):\n",
    "    if data[\"headcount\"].ix[i] in ng_val:\n",
    "        idx_head.append(i)"
   ]
  },
  {
   "cell_type": "code",
   "execution_count": 76,
   "metadata": {
    "collapsed": true
   },
   "outputs": [],
   "source": [
    "# get rid of invalid entries\n",
    "idx_revenue = []\n",
    "for i in range(len(data)):\n",
    "    if data[\"revenue\"].ix[i] in ng_val:\n",
    "        idx_revenue.append(i)"
   ]
  },
  {
   "cell_type": "code",
   "execution_count": 79,
   "metadata": {
    "collapsed": true
   },
   "outputs": [],
   "source": [
    "# extract the valid entry\n",
    "idx_comb = list(set(idx_head+idx_revenue))\n",
    "data_hr = data.drop(data.index[idx_comb])\n"
   ]
  },
  {
   "cell_type": "code",
   "execution_count": null,
   "metadata": {
    "collapsed": true
   },
   "outputs": [],
   "source": [
    "# extract number information from each entry\n",
    "def digit(string):\n",
    "    ll = [re.sub('[^0-9,]','',x ).replace(\",\", \"\") for x in string.split()]  \n",
    "    ll2 = np.mean([int(y) for y in ll if y !=\"\"])\n",
    "    return ll2"
   ]
  },
  {
   "cell_type": "code",
   "execution_count": 168,
   "metadata": {
    "collapsed": true
   },
   "outputs": [],
   "source": [
    "# extract number information from each entry in revenur\n",
    "def digit_2(string):\n",
    "    global ans\n",
    "    l = [re.sub('[^0-9,]','',x ).replace(\",\", \"\") for x in string.split()] \n",
    "    l2 = [int(y) for y in l if y !=\"\"]\n",
    "    if len(l2)==2 and l2[0] < l2[1]:\n",
    "        ans = np.mean(l2)\n",
    "    elif len(l2) ==2 and l2[0] == 500000:\n",
    "        ans = np.mean([0.5,l2[1]])\n",
    "    elif len(l2) ==1 and l2[0] == 500000:\n",
    "        ans = 0.5\n",
    "    elif len(l2) == 1 and l2[0] == 1:\n",
    "        ans = 1000\n",
    "    elif len(l2) == 1 and l2[0] == 500:\n",
    "        ans = 500\n",
    "    return ans"
   ]
  },
  {
   "cell_type": "code",
   "execution_count": 169,
   "metadata": {
    "collapsed": false
   },
   "outputs": [],
   "source": [
    "# get the mean of headcount and revenue for each entry\n",
    "head = []\n",
    "rev= []\n",
    "for i in range(len(data_hr)):\n",
    "    employ = digit(data_hr.headcount.iloc[i])\n",
    "    profit = digit_2(data_hr.revenue.iloc[i])\n",
    "    head.append(employ)\n",
    "    rev.append(profit)\n",
    "    "
   ]
  },
  {
   "cell_type": "code",
   "execution_count": 255,
   "metadata": {
    "collapsed": false
   },
   "outputs": [
    {
     "data": {
      "text/plain": [
       "({2.5, 7.0, 14.5, 34.5, 74.5, 174.5, 374.5, 749.5, 1000.0},\n",
       " {0.5, 0.75, 7.5, 13.0, 15.0, 35.0, 75.0, 300.0, 500, 1000})"
      ]
     },
     "execution_count": 255,
     "metadata": {},
     "output_type": "execute_result"
    }
   ],
   "source": [
    "set(head), set(rev)"
   ]
  },
  {
   "cell_type": "code",
   "execution_count": 262,
   "metadata": {
    "collapsed": false
   },
   "outputs": [
    {
     "name": "stderr",
     "output_type": "stream",
     "text": [
      "/Users/apple/anaconda/lib/python3.5/site-packages/ggplot/stats/stat_smooth.py:77: FutureWarning: sort(columns=....) is deprecated, use sort_values(by=.....)\n",
      "  smoothed_data = smoothed_data.sort('x')\n"
     ]
    },
    {
     "data": {
      "image/png": "[encoded data removed]",
      "text/plain": [
       "<matplotlib.figure.Figure at 0x173b77278>"
      ]
     },
     "metadata": {},
     "output_type": "display_data"
    },
    {
     "data": {
      "text/plain": [
       "<ggplot: (-9223372036465002040)>"
      ]
     },
     "execution_count": 262,
     "metadata": {},
     "output_type": "execute_result"
    }
   ],
   "source": [
    "from ggplot import *\n",
    "ggplot(aes(x='head', y='rev'), data=data_hr) + geom_point() + stat_smooth(colour='blue', span=0.2)"
   ]
  },
  {
   "cell_type": "code",
   "execution_count": 187,
   "metadata": {
    "collapsed": false
   },
   "outputs": [],
   "source": [
    "# add new column in dataframe\n",
    "data_hr[\"employee\"] = head\n",
    "data_hr[\"rev\"] = rev\n",
    "\n",
    "# subset the dataframe with good value for time in business\n",
    "data_hrt = data_hr[(data_hr.time_in_business == '6-10 years') | (data_hr.time_in_business == '10+ years') | (data_hr.time_in_business == '1-2 years') | (data_hr.time_in_business == '3-5 years') ]"
   ]
  },
  {
   "cell_type": "code",
   "execution_count": 203,
   "metadata": {
    "collapsed": false
   },
   "outputs": [
    {
     "data": {
      "text/plain": [
       "<matplotlib.axes._subplots.AxesSubplot at 0x1736283c8>"
      ]
     },
     "execution_count": 203,
     "metadata": {},
     "output_type": "execute_result"
    },
    {
     "data": {
      "image/png": "[encoded data removed]",
      "text/plain": [
       "<matplotlib.figure.Figure at 0x1733fa5f8>"
      ]
     },
     "metadata": {},
     "output_type": "display_data"
    }
   ],
   "source": [
    "# boxplot \n",
    "import seaborn as sns\n",
    "sns.boxplot(x='time_in_business', y='employee', data = data_hrt)"
   ]
  },
  {
   "cell_type": "code",
   "execution_count": 204,
   "metadata": {
    "collapsed": false
   },
   "outputs": [
    {
     "data": {
      "text/plain": [
       "<matplotlib.axes._subplots.AxesSubplot at 0x1736a1160>"
      ]
     },
     "execution_count": 204,
     "metadata": {},
     "output_type": "execute_result"
    },
    {
     "data": {
      "image/png": "[encoded data removed]",
      "text/plain": [
       "<matplotlib.figure.Figure at 0x1736aa6a0>"
      ]
     },
     "metadata": {},
     "output_type": "display_data"
    }
   ],
   "source": [
    "sns.boxplot(x='time_in_business', y='rev', data = data_hrt)"
   ]
  },
  {
   "cell_type": "code",
   "execution_count": 275,
   "metadata": {
    "collapsed": true
   },
   "outputs": [],
   "source": [
    "def IQR(x):\n",
    "    return np.subtract(*np.percentile(x, [75, 25]))"
   ]
  },
  {
   "cell_type": "code",
   "execution_count": 276,
   "metadata": {
    "collapsed": false
   },
   "outputs": [
    {
     "data": {
      "text/html": [
       "<div>\n",
       "<table border=\"1\" class=\"dataframe\">\n",
       "  <thead>\n",
       "    <tr>\n",
       "      <th></th>\n",
       "      <th colspan=\"2\" halign=\"left\">rev</th>\n",
       "      <th colspan=\"2\" halign=\"left\">employee</th>\n",
       "    </tr>\n",
       "    <tr>\n",
       "      <th></th>\n",
       "      <th>mean</th>\n",
       "      <th>IQR</th>\n",
       "      <th>mean</th>\n",
       "      <th>IQR</th>\n",
       "    </tr>\n",
       "    <tr>\n",
       "      <th>time_in_business</th>\n",
       "      <th></th>\n",
       "      <th></th>\n",
       "      <th></th>\n",
       "      <th></th>\n",
       "    </tr>\n",
       "  </thead>\n",
       "  <tbody>\n",
       "    <tr>\n",
       "      <th>1-2 years</th>\n",
       "      <td>13.502868</td>\n",
       "      <td>12.5</td>\n",
       "      <td>35.945091</td>\n",
       "      <td>32.0</td>\n",
       "    </tr>\n",
       "    <tr>\n",
       "      <th>10+ years</th>\n",
       "      <td>13.703908</td>\n",
       "      <td>12.5</td>\n",
       "      <td>34.682553</td>\n",
       "      <td>32.0</td>\n",
       "    </tr>\n",
       "    <tr>\n",
       "      <th>3-5 years</th>\n",
       "      <td>13.850123</td>\n",
       "      <td>12.5</td>\n",
       "      <td>34.087859</td>\n",
       "      <td>12.0</td>\n",
       "    </tr>\n",
       "    <tr>\n",
       "      <th>6-10 years</th>\n",
       "      <td>13.605027</td>\n",
       "      <td>12.5</td>\n",
       "      <td>34.753173</td>\n",
       "      <td>12.0</td>\n",
       "    </tr>\n",
       "  </tbody>\n",
       "</table>\n",
       "</div>"
      ],
      "text/plain": [
       "                        rev         employee      \n",
       "                       mean   IQR       mean   IQR\n",
       "time_in_business                                  \n",
       "1-2 years         13.502868  12.5  35.945091  32.0\n",
       "10+ years         13.703908  12.5  34.682553  32.0\n",
       "3-5 years         13.850123  12.5  34.087859  12.0\n",
       "6-10 years        13.605027  12.5  34.753173  12.0"
      ]
     },
     "execution_count": 276,
     "metadata": {},
     "output_type": "execute_result"
    }
   ],
   "source": [
    "mapped_funcs = {'employee': ('mean', IQR),'rev': ('mean', IQR)}\n",
    "\n",
    "data_hrt.groupby([\"time_in_business\"]).agg(mapped_funcs)"
   ]
  },
  {
   "cell_type": "markdown",
   "metadata": {},
   "source": [
    "- Top popular cities and states for business"
   ]
  },
  {
   "cell_type": "code",
   "execution_count": 42,
   "metadata": {
    "collapsed": true
   },
   "outputs": [],
   "source": [
    "# get rid of invalid entries\n",
    "idx_state = []\n",
    "for i in range(len(data)):\n",
    "    if data[\"state\"].ix[i] in ng_val:\n",
    "        idx_state.append(i)\n",
    "\n",
    "\n",
    "data_state = data.drop(data.index[idx_state])"
   ]
  },
  {
   "cell_type": "code",
   "execution_count": 71,
   "metadata": {
    "collapsed": false
   },
   "outputs": [],
   "source": [
    "# sort state based on the occurences\n",
    "from collections import Counter\n",
    "from operator import itemgetter\n",
    "state_list = data_state.state\n",
    "state_count = dict(Counter(state_list))\n",
    "\n",
    "sorted_state = sorted(state_count.items(), key=itemgetter(1),reverse=True)\n"
   ]
  },
  {
   "cell_type": "code",
   "execution_count": 266,
   "metadata": {
    "collapsed": false
   },
   "outputs": [
    {
     "data": {
      "image/png": "[encoded data removed]",
      "text/plain": [
       "<matplotlib.figure.Figure at 0x15fc2def0>"
      ]
     },
     "metadata": {},
     "output_type": "display_data"
    }
   ],
   "source": [
    "# Show the first ten popular states\n",
    "state_top = sorted_state[0:10]\n",
    "plt.bar(range(len(state_top)),[y for (x,y) in state_top])\n",
    "plt.xticks(range(len(state_top)),[x for (x,y) in state_top])\n",
    "plt.xlabel(\"State\")\n",
    "plt.ylabel(\"Count\")\n",
    "plt.title(\"Histogram of Number of businesses  \\n in Top 10 States\")\n",
    "plt.show()"
   ]
  },
  {
   "cell_type": "code",
   "execution_count": 245,
   "metadata": {
    "collapsed": true
   },
   "outputs": [],
   "source": [
    "# subset the dataframe with state in CA\n",
    "data_ca = data[data.state == \"CA\"]"
   ]
  },
  {
   "cell_type": "code",
   "execution_count": 280,
   "metadata": {
    "collapsed": false
   },
   "outputs": [
    {
     "data": {
      "text/html": [
       "<div>\n",
       "<table border=\"1\" class=\"dataframe\">\n",
       "  <thead>\n",
       "    <tr style=\"text-align: right;\">\n",
       "      <th></th>\n",
       "      <th>Number of Businesses</th>\n",
       "    </tr>\n",
       "  </thead>\n",
       "  <tbody>\n",
       "    <tr>\n",
       "      <th>SAN DIEGO</th>\n",
       "      <td>5987</td>\n",
       "    </tr>\n",
       "    <tr>\n",
       "      <th>LOS ANGELES</th>\n",
       "      <td>5518</td>\n",
       "    </tr>\n",
       "    <tr>\n",
       "      <th>SAN FRANCISCO</th>\n",
       "      <td>4867</td>\n",
       "    </tr>\n",
       "    <tr>\n",
       "      <th>SAN JOSE</th>\n",
       "      <td>3215</td>\n",
       "    </tr>\n",
       "    <tr>\n",
       "      <th>SACRAMENTO</th>\n",
       "      <td>2466</td>\n",
       "    </tr>\n",
       "    <tr>\n",
       "      <th>IRVINE</th>\n",
       "      <td>2077</td>\n",
       "    </tr>\n",
       "    <tr>\n",
       "      <th>OAKLAND</th>\n",
       "      <td>1637</td>\n",
       "    </tr>\n",
       "    <tr>\n",
       "      <th>FRESNO</th>\n",
       "      <td>1488</td>\n",
       "    </tr>\n",
       "    <tr>\n",
       "      <th>LONG BEACH</th>\n",
       "      <td>1185</td>\n",
       "    </tr>\n",
       "    <tr>\n",
       "      <th>ANAHEIM</th>\n",
       "      <td>1182</td>\n",
       "    </tr>\n",
       "  </tbody>\n",
       "</table>\n",
       "</div>"
      ],
      "text/plain": [
       "               Number of Businesses\n",
       "SAN DIEGO                      5987\n",
       "LOS ANGELES                    5518\n",
       "SAN FRANCISCO                  4867\n",
       "SAN JOSE                       3215\n",
       "SACRAMENTO                     2466\n",
       "IRVINE                         2077\n",
       "OAKLAND                        1637\n",
       "FRESNO                         1488\n",
       "LONG BEACH                     1185\n",
       "ANAHEIM                        1182"
      ]
     },
     "execution_count": 280,
     "metadata": {},
     "output_type": "execute_result"
    }
   ],
   "source": [
    "# Find the top 5 popular business cities in CA \n",
    "city_list = data_ca.city\n",
    "city_count = dict(Counter(city_list))\n",
    "sorted_city = sorted(city_count.items(), key=itemgetter(1),reverse=True)\n",
    "city_top = sorted_city[0:10]\n",
    "c = [x for (x,y) in city_top]\n",
    "num = [y for (x,y) in city_top]\n",
    "df_city = pd.DataFrame(\n",
    "    {'Number of Businesses': num\n",
    "     },index = c)\n",
    "df_city"
   ]
  },
  {
   "cell_type": "code",
   "execution_count": null,
   "metadata": {
    "collapsed": true
   },
   "outputs": [],
   "source": []
  }
 ],
 "metadata": {
  "kernelspec": {
   "display_name": "Python 3",
   "language": "python",
   "name": "python3"
  },
  "language_info": {
   "codemirror_mode": {
    "name": "ipython",
    "version": 3
   },
   "file_extension": ".py",
   "mimetype": "text/x-python",
   "name": "python",
   "nbconvert_exporter": "python",
   "pygments_lexer": "ipython3",
   "version": "3.5.3"
  }
 },
 "nbformat": 4,
 "nbformat_minor": 1
}
